{
 "cells": [
  {
   "cell_type": "code",
   "execution_count": 1,
   "id": "7440b5a2-d94e-4f56-9e5a-0b7e87b15ed9",
   "metadata": {},
   "outputs": [
    {
     "name": "stdout",
     "output_type": "stream",
     "text": [
      "Requirement already satisfied: sumy in c:\\users\\dell\\anaconda3\\lib\\site-packages (0.11.0)\n",
      "Requirement already satisfied: docopt<0.7,>=0.6.1 in c:\\users\\dell\\anaconda3\\lib\\site-packages (from sumy) (0.6.2)\n",
      "Requirement already satisfied: breadability>=0.1.20 in c:\\users\\dell\\anaconda3\\lib\\site-packages (from sumy) (0.1.20)\n",
      "Requirement already satisfied: requests>=2.7.0 in c:\\users\\dell\\anaconda3\\lib\\site-packages (from sumy) (2.32.2)\n",
      "Requirement already satisfied: pycountry>=18.2.23 in c:\\users\\dell\\anaconda3\\lib\\site-packages (from sumy) (24.6.1)\n",
      "Requirement already satisfied: nltk>=3.0.2 in c:\\users\\dell\\anaconda3\\lib\\site-packages (from sumy) (3.8.1)\n",
      "Requirement already satisfied: chardet in c:\\users\\dell\\anaconda3\\lib\\site-packages (from breadability>=0.1.20->sumy) (4.0.0)\n",
      "Requirement already satisfied: lxml>=2.0 in c:\\users\\dell\\anaconda3\\lib\\site-packages (from breadability>=0.1.20->sumy) (5.2.1)\n",
      "Requirement already satisfied: click in c:\\users\\dell\\anaconda3\\lib\\site-packages (from nltk>=3.0.2->sumy) (8.1.7)\n",
      "Requirement already satisfied: joblib in c:\\users\\dell\\anaconda3\\lib\\site-packages (from nltk>=3.0.2->sumy) (1.4.2)\n",
      "Requirement already satisfied: regex>=2021.8.3 in c:\\users\\dell\\anaconda3\\lib\\site-packages (from nltk>=3.0.2->sumy) (2023.10.3)\n",
      "Requirement already satisfied: tqdm in c:\\users\\dell\\anaconda3\\lib\\site-packages (from nltk>=3.0.2->sumy) (4.66.4)\n",
      "Requirement already satisfied: charset-normalizer<4,>=2 in c:\\users\\dell\\anaconda3\\lib\\site-packages (from requests>=2.7.0->sumy) (2.0.4)\n",
      "Requirement already satisfied: idna<4,>=2.5 in c:\\users\\dell\\anaconda3\\lib\\site-packages (from requests>=2.7.0->sumy) (3.7)\n",
      "Requirement already satisfied: urllib3<3,>=1.21.1 in c:\\users\\dell\\anaconda3\\lib\\site-packages (from requests>=2.7.0->sumy) (2.2.2)\n",
      "Requirement already satisfied: certifi>=2017.4.17 in c:\\users\\dell\\anaconda3\\lib\\site-packages (from requests>=2.7.0->sumy) (2024.6.2)\n",
      "Requirement already satisfied: colorama in c:\\users\\dell\\anaconda3\\lib\\site-packages (from click->nltk>=3.0.2->sumy) (0.4.6)\n"
     ]
    }
   ],
   "source": [
    "!pip install sumy"
   ]
  },
  {
   "cell_type": "code",
   "execution_count": 7,
   "id": "c5f355b0-e8a0-49e7-aeb4-4d32d26da691",
   "metadata": {},
   "outputs": [
    {
     "name": "stdout",
     "output_type": "stream",
     "text": [
      "Overwriting Text_Summarization.py\n"
     ]
    }
   ],
   "source": [
    "%%writefile Text_Summarization.py\n",
    "import streamlit as st\n",
    "from sumy.parsers.plaintext import PlaintextParser #pass text\n",
    "from sumy.nlp.tokenizers import Tokenizer\n",
    "from sumy.summarizers.lsa import LsaSummarizer #Latent Semantic Analysis \n",
    "from sumy.summarizers.luhn import LuhnSummarizer #built on word frequency\n",
    "from sumy.summarizers.lex_rank import LexRankSummarizer #graph based algorithm\n",
    "from sumy.summarizers.text_rank import TextRankSummarizer\n",
    "\n",
    "st.title(\"Text Summarization Application\")\n",
    "\n",
    "text = st.text_area('Please, Enter a Text to Summarize...', height = 150) \n",
    "\n",
    "summarizer_type = st.selectbox(\"Choose Summarizer Type\", ('LSA', 'LUHN', 'LexRank', 'TextRank'))\n",
    "\n",
    "senetence_count = st.slider(\"Number of Sentence\", 1,10, 5) #start, end, default\n",
    "\n",
    "#define a function for 4 differnt summarizers\n",
    "def Summarize_Text(text, summarizer_type = 'LSA', senetence_count = 5):\n",
    "    #pass text with language\n",
    "    parser = PlaintextParser.from_string(text, Tokenizer('arabic')) #pass text in english \n",
    "\n",
    "    if summarizer_type == 'LSA':\n",
    "        summarizer = LsaSummarizer()\n",
    "\n",
    "    elif summarizer_type == 'LUHN':\n",
    "        summarizer = LuhnSummarizer()\n",
    "\n",
    "    elif summarizer_type == 'LexRank':\n",
    "        summarizer = LexRankSummarizer()\n",
    "\n",
    "    elif summarizer_type == 'TextRank':\n",
    "        summarizer = TextRankSummarizer()\n",
    "\n",
    "    summary = summarizer(parser.document, senetence_count)\n",
    "\n",
    "    return ' '.join(str(sentence) for sentence in summary) #join words together ---> sentence\n",
    "\n",
    "if st.button('Summarize Text'):\n",
    "    if text:\n",
    "        summary = Summarize_Text(text, summarizer_type, senetence_count)\n",
    "        st.subheader('Text Summary')\n",
    "        st.write(summary)\n",
    "    else:\n",
    "        st.write(\"Please, Write a Text to Summarize\")"
   ]
  },
  {
   "cell_type": "code",
   "execution_count": 6,
   "id": "04e41618-8731-4cc6-840a-3ed7a331cf25",
   "metadata": {},
   "outputs": [
    {
     "name": "stdout",
     "output_type": "stream",
     "text": [
      "Collecting pyarabic\n",
      "  Downloading PyArabic-0.6.15-py3-none-any.whl.metadata (10 kB)\n",
      "Requirement already satisfied: six>=1.14.0 in c:\\users\\dell\\anaconda3\\lib\\site-packages (from pyarabic) (1.16.0)\n",
      "Downloading PyArabic-0.6.15-py3-none-any.whl (126 kB)\n",
      "   ---------------------------------------- 0.0/126.4 kB ? eta -:--:--\n",
      "   --- ------------------------------------ 10.2/126.4 kB ? eta -:--:--\n",
      "   --- ------------------------------------ 10.2/126.4 kB ? eta -:--:--\n",
      "   ------------ -------------------------- 41.0/126.4 kB 326.8 kB/s eta 0:00:01\n",
      "   ------------------------------------ - 122.9/126.4 kB 722.1 kB/s eta 0:00:01\n",
      "   ------------------------------------ - 122.9/126.4 kB 722.1 kB/s eta 0:00:01\n",
      "   -------------------------------------- 126.4/126.4 kB 530.3 kB/s eta 0:00:00\n",
      "Installing collected packages: pyarabic\n",
      "Successfully installed pyarabic-0.6.15\n"
     ]
    }
   ],
   "source": [
    "!pip install pyarabic"
   ]
  },
  {
   "cell_type": "code",
   "execution_count": null,
   "id": "f68fd7b9-22c1-47ab-99c0-90f01b8e2901",
   "metadata": {},
   "outputs": [],
   "source": []
  }
 ],
 "metadata": {
  "kernelspec": {
   "display_name": "Python 3 (ipykernel)",
   "language": "python",
   "name": "python3"
  },
  "language_info": {
   "codemirror_mode": {
    "name": "ipython",
    "version": 3
   },
   "file_extension": ".py",
   "mimetype": "text/x-python",
   "name": "python",
   "nbconvert_exporter": "python",
   "pygments_lexer": "ipython3",
   "version": "3.12.4"
  }
 },
 "nbformat": 4,
 "nbformat_minor": 5
}
